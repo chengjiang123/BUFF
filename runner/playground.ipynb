{
 "cells": [
  {
   "cell_type": "code",
   "execution_count": 1,
   "id": "7f7053be",
   "metadata": {},
   "outputs": [],
   "source": [
    "####\n",
    "#required import\n",
    "####\n",
    "\n",
    "#basic\n",
    "import matplotlib.pyplot as plt\n",
    "import numpy as np\n",
    "import torch\n",
    "\n",
    "#utils\n",
    "from functools import partial\n",
    "from tqdm.notebook import tqdm,trange\n",
    "import time, sys, copy\n",
    "\n",
    "#training\n",
    "from sklearn.model_selection import train_test_split\n",
    "from joblib import Parallel, delayed\n",
    "from sklearn.preprocessing import MinMaxScaler\n",
    "\n",
    "#BDT class\n",
    "import xgboost as xgb\n",
    "\n",
    "#CFM external package\n",
    "from torchcfm.conditional_flow_matching import ConditionalFlowMatcher,SchrodingerBridgeConditionalFlowMatcher,ExactOptimalTransportConditionalFlowMatcher\n",
    "from torchcfm.optimal_transport import OTPlanSampler\n",
    "\n",
    "#some ode solver\n",
    "from ode_example import *\n"
   ]
  },
  {
   "cell_type": "code",
   "execution_count": 2,
   "id": "e0dbf17d",
   "metadata": {},
   "outputs": [
    {
     "name": "stdout",
     "output_type": "stream",
     "text": [
      "(40000,)\n"
     ]
    }
   ],
   "source": [
    "# set seed\n",
    "seed = 1980\n",
    "np.random.seed(seed)\n",
    "torch.manual_seed(seed)\n",
    "torch.cuda.manual_seed(seed)\n",
    "torch.cuda.manual_seed_all(seed)\n",
    "torch.backends.cudnn.benchmark = True\n",
    "\n",
    "\n",
    "# load the dataset\n",
    "# X=DATA with (n,d) shape\n",
    "# y=np.zeros(len(X)) label\n",
    "\n",
    "import h5py\n",
    "\n",
    "file_path = 'generated/t_substructure.h5'\n",
    "\n",
    "with h5py.File(file_path, 'r') as file:\n",
    "    dataset_names = ['d12', 'd2',  'mass', 'pt', 'tau1', 'tau3']\n",
    "    data_arrays = []\n",
    "    \n",
    "    for name in dataset_names:\n",
    "        data = file[name][()]  # Read the dataset\n",
    "        data_arrays.append(data)\n",
    "    combined_data = np.column_stack(data_arrays)\n",
    "\n",
    "X=combined_data[:40000]\n",
    "y=np.zeros(len(X))\n",
    "print(y.shape)\n",
    "\n",
    "# shuffle the observations\n",
    "new_perm = np.random.permutation(X.shape[0])\n",
    "np.take(X, new_perm, axis=0, out=X)\n",
    "np.take(y, new_perm, axis=0, out=y)\n",
    "\n",
    "# Save data before adding missing values\n",
    "X_true, y_true = copy.deepcopy(X), copy.deepcopy(y)\n",
    "Xy_true = np.concatenate((X_true, np.expand_dims(y_true, axis=1)), axis=1)"
   ]
  },
  {
   "cell_type": "code",
   "execution_count": 3,
   "id": "b8f81cf4",
   "metadata": {},
   "outputs": [],
   "source": [
    "# Main hyperparameters\n",
    "n_t = 30  # number of flow steps according to the dataset\n",
    "duplicate_K = 100  # number of different noise sample per real data sample (higher is better)\n",
    "\n",
    "# XGBoost hyperparameters\n",
    "max_depth = 4\n",
    "n_estimators = 100\n",
    "eta = 0.1\n",
    "tree_method = \"hist\"\n",
    "reg_lambda = 0.1\n",
    "reg_alpha = 0.2\n",
    "subsample = 1.0"
   ]
  },
  {
   "cell_type": "code",
   "execution_count": 4,
   "id": "3de45b68",
   "metadata": {},
   "outputs": [
    {
     "data": {
      "application/vnd.jupyter.widget-view+json": {
       "model_id": "b182d1ae7a4b4a64b80480986fd7edb8",
       "version_major": 2,
       "version_minor": 0
      },
      "text/plain": [
       "  0%|          | 0/1 [00:00<?, ?it/s]"
      ]
     },
     "metadata": {},
     "output_type": "display_data"
    }
   ],
   "source": [
    "b, c = X.shape\n",
    "# Saving the freqency of the classes and storing label masks for later\n",
    "y_uniques, y_probs = np.unique(y, return_counts=True)\n",
    "y_probs = y_probs / np.sum(y_probs)\n",
    "mask_y = {}  # mask for which observations has a specific value of y\n",
    "for i in trange(len(y_uniques)):\n",
    "    mask_y[y_uniques[i]] = np.zeros(b, dtype=bool)\n",
    "    mask_y[y_uniques[i]][y == y_uniques[i]] = True\n",
    "    mask_y[y_uniques[i]] = np.tile(mask_y[y_uniques[i]], (duplicate_K))\n",
    "n_y = len(y_uniques)  # number of classes\n",
    "\n",
    "\n",
    "\n",
    "# Min-Max scaling of the variables\n",
    "X_min = np.nanmin(X, axis=0, keepdims=1)\n",
    "X_max = np.nanmax(X, axis=0, keepdims=1)\n",
    "scaler = MinMaxScaler(feature_range=(-1, 1))\n",
    "X_scaled = scaler.fit_transform(X)\n",
    "\n",
    "\n",
    "X_scaled = X_scaled\n",
    "# Save shape\n",
    "b, c = X.shape\n",
    "\n",
    "# we duplicate the data multiple times, so that X0 is k times bigger, so that we can have k random noise z associated per sample\n",
    "X1 = np.tile(X_scaled, (duplicate_K, 1))\n",
    "\n",
    "\n",
    "# Generate noise data\n",
    "X0 = np.random.normal(size=X1.shape)"
   ]
  },
  {
   "cell_type": "code",
   "execution_count": 5,
   "id": "62829011",
   "metadata": {},
   "outputs": [
    {
     "data": {
      "application/vnd.jupyter.widget-view+json": {
       "model_id": "fe4d386499394c8d867e0b0d1b255c49",
       "version_major": 2,
       "version_minor": 0
      },
      "text/plain": [
       "  0%|          | 0/30 [00:00<?, ?it/s]"
      ]
     },
     "metadata": {},
     "output_type": "display_data"
    }
   ],
   "source": [
    "import os\n",
    "\n",
    "\n",
    "store = False # if store the local training files for split time step training if RAM too high\n",
    "\n",
    "\n",
    "\n",
    "\n",
    "# Build [X(t), y] at multiple values of t\n",
    "#sigma = 1e-3\n",
    "# Define SB Conditional Flow Matching (SB-CFM)\n",
    "#FM = SchrodingerBridgeConditionalFlowMatcher(sigma=sigma, ot_method=\"sinkhorn\")\n",
    "\n",
    "# Define Independent Conditional Flow Matching (I-CFM)\n",
    "FM = ConditionalFlowMatcher(sigma=0.0)\n",
    "\n",
    "# Define Independent Conditional Flow Matching (OT-CFM)\n",
    "#FM = ConditionalFlowMatcher(sigma=0.0)\n",
    "\n",
    "#ot_sampler = OTPlanSampler(method=\"exact\")\n",
    "\n",
    "#FM = ExactOptimalTransportConditionalFlowMatcher(sigma=0.0)\n",
    "\n",
    "\n",
    "# Time levels\n",
    "t_levels = np.linspace(1e-3, 1, num=n_t)\n",
    "\n",
    "# Interpolation between x0 and x1 (xt)\n",
    "X_train = np.zeros((n_t, X0.shape[0], X0.shape[1]))  # [n_t, b, c]\n",
    "\n",
    "# Output to predict (ut)\n",
    "y_train = np.zeros((n_t, X0.shape[0], X0.shape[1]))  # [n_t, b, c]\n",
    "\n",
    "# Fill with xt and ut\n",
    "for i in trange(n_t):\n",
    "    t = torch.ones(X0.shape[0]) * t_levels[i]  # current t\n",
    "    _, xt, ut = FM.sample_location_and_conditional_flow(\n",
    "        torch.from_numpy(X0), torch.from_numpy(X1), t=t\n",
    "    )\n",
    "    if store == True:\n",
    "        np.save(os.path.join(f'generated/X_traint_{i}.npy'), xt.numpy())\n",
    "        np.save(os.path.join(f'generated/y_traint_{i}.npy'), ut.numpy())\n",
    "        \n",
    "    else:\n",
    "        X_train[i], y_train[i] = xt.numpy(), ut.numpy()  #train here"
   ]
  },
  {
   "cell_type": "code",
   "execution_count": 6,
   "id": "3df56ab4",
   "metadata": {},
   "outputs": [],
   "source": [
    "def train_parallel(X_train, y_train):\n",
    "    model = xgb.XGBRegressor(\n",
    "        n_estimators=n_estimators,\n",
    "        objective=\"reg:squarederror\",\n",
    "        eta=eta,\n",
    "        max_depth=max_depth,\n",
    "        n_jobs=16,\n",
    "        #uncomment if want to do multi-output per tree\n",
    "        #multi_strategy='one_output_per_tree', \n",
    "        #multi_strategy='multi_output_tree',\n",
    "        reg_lambda=reg_lambda,\n",
    "        reg_alpha=reg_alpha,\n",
    "        subsample=subsample,\n",
    "        seed=666,\n",
    "        tree_method=tree_method,\n",
    "        device=\"cpu\",\n",
    "    )\n",
    "\n",
    "    #y_no_miss = ~np.isnan(y_train)\n",
    "    model.fit(X_train, y_train)\n",
    "\n",
    "    return model"
   ]
  },
  {
   "cell_type": "code",
   "execution_count": 7,
   "id": "840da1f5",
   "metadata": {
    "scrolled": true
   },
   "outputs": [
    {
     "data": {
      "application/vnd.jupyter.widget-view+json": {
       "model_id": "6b904e7c10ce4616aeb60717cf1bef8a",
       "version_major": 2,
       "version_minor": 0
      },
      "text/plain": [
       "  0%|          | 0/30 [00:00<?, ?it/s]"
      ]
     },
     "metadata": {},
     "output_type": "display_data"
    },
    {
     "data": {
      "application/vnd.jupyter.widget-view+json": {
       "model_id": "80388a23d1864580ba8764e5912e3bee",
       "version_major": 2,
       "version_minor": 0
      },
      "text/plain": [
       "  0%|          | 0/6 [00:00<?, ?it/s]"
      ]
     },
     "metadata": {},
     "output_type": "display_data"
    },
    {
     "data": {
      "application/vnd.jupyter.widget-view+json": {
       "model_id": "746fa6801421453c9937836fb9c6da87",
       "version_major": 2,
       "version_minor": 0
      },
      "text/plain": [
       "  0%|          | 0/6 [00:00<?, ?it/s]"
      ]
     },
     "metadata": {},
     "output_type": "display_data"
    },
    {
     "data": {
      "application/vnd.jupyter.widget-view+json": {
       "model_id": "d2bb06efc1864c00965d4b36ba689e60",
       "version_major": 2,
       "version_minor": 0
      },
      "text/plain": [
       "  0%|          | 0/6 [00:00<?, ?it/s]"
      ]
     },
     "metadata": {},
     "output_type": "display_data"
    },
    {
     "data": {
      "application/vnd.jupyter.widget-view+json": {
       "model_id": "05ad391872bc40e9b8590c6132de776d",
       "version_major": 2,
       "version_minor": 0
      },
      "text/plain": [
       "  0%|          | 0/6 [00:00<?, ?it/s]"
      ]
     },
     "metadata": {},
     "output_type": "display_data"
    },
    {
     "data": {
      "application/vnd.jupyter.widget-view+json": {
       "model_id": "170615dff607406f93916ac36322eb08",
       "version_major": 2,
       "version_minor": 0
      },
      "text/plain": [
       "  0%|          | 0/6 [00:00<?, ?it/s]"
      ]
     },
     "metadata": {},
     "output_type": "display_data"
    },
    {
     "data": {
      "application/vnd.jupyter.widget-view+json": {
       "model_id": "fb04d97ee9d1484f8d0a9df75bbff1e9",
       "version_major": 2,
       "version_minor": 0
      },
      "text/plain": [
       "  0%|          | 0/6 [00:00<?, ?it/s]"
      ]
     },
     "metadata": {},
     "output_type": "display_data"
    },
    {
     "data": {
      "application/vnd.jupyter.widget-view+json": {
       "model_id": "4392742fba9b41e699995c74f610abd9",
       "version_major": 2,
       "version_minor": 0
      },
      "text/plain": [
       "  0%|          | 0/6 [00:00<?, ?it/s]"
      ]
     },
     "metadata": {},
     "output_type": "display_data"
    },
    {
     "data": {
      "application/vnd.jupyter.widget-view+json": {
       "model_id": "070e531e212149058a392010d4cfbdec",
       "version_major": 2,
       "version_minor": 0
      },
      "text/plain": [
       "  0%|          | 0/6 [00:00<?, ?it/s]"
      ]
     },
     "metadata": {},
     "output_type": "display_data"
    },
    {
     "data": {
      "application/vnd.jupyter.widget-view+json": {
       "model_id": "3cbb3e90758c4bf791ddfa0d482ca631",
       "version_major": 2,
       "version_minor": 0
      },
      "text/plain": [
       "  0%|          | 0/6 [00:00<?, ?it/s]"
      ]
     },
     "metadata": {},
     "output_type": "display_data"
    },
    {
     "data": {
      "application/vnd.jupyter.widget-view+json": {
       "model_id": "8e8e54845d374d1c84f0611d1ddf503c",
       "version_major": 2,
       "version_minor": 0
      },
      "text/plain": [
       "  0%|          | 0/6 [00:00<?, ?it/s]"
      ]
     },
     "metadata": {},
     "output_type": "display_data"
    },
    {
     "data": {
      "application/vnd.jupyter.widget-view+json": {
       "model_id": "11de8c68fbae46e99040771e00f334a0",
       "version_major": 2,
       "version_minor": 0
      },
      "text/plain": [
       "  0%|          | 0/6 [00:00<?, ?it/s]"
      ]
     },
     "metadata": {},
     "output_type": "display_data"
    },
    {
     "data": {
      "application/vnd.jupyter.widget-view+json": {
       "model_id": "ebebc13422384b919fe7c01d8f1e250a",
       "version_major": 2,
       "version_minor": 0
      },
      "text/plain": [
       "  0%|          | 0/6 [00:00<?, ?it/s]"
      ]
     },
     "metadata": {},
     "output_type": "display_data"
    },
    {
     "data": {
      "application/vnd.jupyter.widget-view+json": {
       "model_id": "4cdde130dc0746f09ed5874d6421b5cf",
       "version_major": 2,
       "version_minor": 0
      },
      "text/plain": [
       "  0%|          | 0/6 [00:00<?, ?it/s]"
      ]
     },
     "metadata": {},
     "output_type": "display_data"
    },
    {
     "data": {
      "application/vnd.jupyter.widget-view+json": {
       "model_id": "8fff0efed32a450fb48c766a413d87a2",
       "version_major": 2,
       "version_minor": 0
      },
      "text/plain": [
       "  0%|          | 0/6 [00:00<?, ?it/s]"
      ]
     },
     "metadata": {},
     "output_type": "display_data"
    },
    {
     "data": {
      "application/vnd.jupyter.widget-view+json": {
       "model_id": "41cd6716bfb94bb48f0c8c8810b7e1d4",
       "version_major": 2,
       "version_minor": 0
      },
      "text/plain": [
       "  0%|          | 0/6 [00:00<?, ?it/s]"
      ]
     },
     "metadata": {},
     "output_type": "display_data"
    },
    {
     "data": {
      "application/vnd.jupyter.widget-view+json": {
       "model_id": "aabff2ad240d4d67b107f2e7b1acc11f",
       "version_major": 2,
       "version_minor": 0
      },
      "text/plain": [
       "  0%|          | 0/6 [00:00<?, ?it/s]"
      ]
     },
     "metadata": {},
     "output_type": "display_data"
    },
    {
     "data": {
      "application/vnd.jupyter.widget-view+json": {
       "model_id": "fd7795fe38fc4474be20b9cac97f0f14",
       "version_major": 2,
       "version_minor": 0
      },
      "text/plain": [
       "  0%|          | 0/6 [00:00<?, ?it/s]"
      ]
     },
     "metadata": {},
     "output_type": "display_data"
    },
    {
     "data": {
      "application/vnd.jupyter.widget-view+json": {
       "model_id": "76793a391c2d44419302b05add916d90",
       "version_major": 2,
       "version_minor": 0
      },
      "text/plain": [
       "  0%|          | 0/6 [00:00<?, ?it/s]"
      ]
     },
     "metadata": {},
     "output_type": "display_data"
    },
    {
     "data": {
      "application/vnd.jupyter.widget-view+json": {
       "model_id": "79a70d16a1f24b33ac59fd84676e8e80",
       "version_major": 2,
       "version_minor": 0
      },
      "text/plain": [
       "  0%|          | 0/6 [00:00<?, ?it/s]"
      ]
     },
     "metadata": {},
     "output_type": "display_data"
    },
    {
     "data": {
      "application/vnd.jupyter.widget-view+json": {
       "model_id": "db8e8c0d3bd240b19b4c614952cac603",
       "version_major": 2,
       "version_minor": 0
      },
      "text/plain": [
       "  0%|          | 0/6 [00:00<?, ?it/s]"
      ]
     },
     "metadata": {},
     "output_type": "display_data"
    },
    {
     "data": {
      "application/vnd.jupyter.widget-view+json": {
       "model_id": "43be2579c6524194b7c7c8b26a998820",
       "version_major": 2,
       "version_minor": 0
      },
      "text/plain": [
       "  0%|          | 0/6 [00:00<?, ?it/s]"
      ]
     },
     "metadata": {},
     "output_type": "display_data"
    },
    {
     "data": {
      "application/vnd.jupyter.widget-view+json": {
       "model_id": "d65dbdbde07d42e190072e774ec3a38f",
       "version_major": 2,
       "version_minor": 0
      },
      "text/plain": [
       "  0%|          | 0/6 [00:00<?, ?it/s]"
      ]
     },
     "metadata": {},
     "output_type": "display_data"
    },
    {
     "data": {
      "application/vnd.jupyter.widget-view+json": {
       "model_id": "702a99d03ec44ba79459f993edab9e3e",
       "version_major": 2,
       "version_minor": 0
      },
      "text/plain": [
       "  0%|          | 0/6 [00:00<?, ?it/s]"
      ]
     },
     "metadata": {},
     "output_type": "display_data"
    },
    {
     "data": {
      "application/vnd.jupyter.widget-view+json": {
       "model_id": "ed78543185434e5db9238d089a6d3e05",
       "version_major": 2,
       "version_minor": 0
      },
      "text/plain": [
       "  0%|          | 0/6 [00:00<?, ?it/s]"
      ]
     },
     "metadata": {},
     "output_type": "display_data"
    },
    {
     "data": {
      "application/vnd.jupyter.widget-view+json": {
       "model_id": "99ba0992f89143caad8e632179f12568",
       "version_major": 2,
       "version_minor": 0
      },
      "text/plain": [
       "  0%|          | 0/6 [00:00<?, ?it/s]"
      ]
     },
     "metadata": {},
     "output_type": "display_data"
    },
    {
     "data": {
      "application/vnd.jupyter.widget-view+json": {
       "model_id": "45231d12a1ea4c80afbf9f1e3d69e7dc",
       "version_major": 2,
       "version_minor": 0
      },
      "text/plain": [
       "  0%|          | 0/6 [00:00<?, ?it/s]"
      ]
     },
     "metadata": {},
     "output_type": "display_data"
    },
    {
     "data": {
      "application/vnd.jupyter.widget-view+json": {
       "model_id": "7b93ba128e214943b1b0e30f7448735d",
       "version_major": 2,
       "version_minor": 0
      },
      "text/plain": [
       "  0%|          | 0/6 [00:00<?, ?it/s]"
      ]
     },
     "metadata": {},
     "output_type": "display_data"
    },
    {
     "data": {
      "application/vnd.jupyter.widget-view+json": {
       "model_id": "72ef876e8d7c446786c4fbd59f038d7c",
       "version_major": 2,
       "version_minor": 0
      },
      "text/plain": [
       "  0%|          | 0/6 [00:00<?, ?it/s]"
      ]
     },
     "metadata": {},
     "output_type": "display_data"
    },
    {
     "data": {
      "application/vnd.jupyter.widget-view+json": {
       "model_id": "e9dffc05b95f42ee87bd470fbde36ba2",
       "version_major": 2,
       "version_minor": 0
      },
      "text/plain": [
       "  0%|          | 0/6 [00:00<?, ?it/s]"
      ]
     },
     "metadata": {},
     "output_type": "display_data"
    },
    {
     "data": {
      "application/vnd.jupyter.widget-view+json": {
       "model_id": "fd42988aea854d5e81b7cd8e1a1911f6",
       "version_major": 2,
       "version_minor": 0
      },
      "text/plain": [
       "  0%|          | 0/6 [00:00<?, ?it/s]"
      ]
     },
     "metadata": {},
     "output_type": "display_data"
    }
   ],
   "source": [
    "regr = Parallel(n_jobs=1)(  # using all or one cpu\n",
    "    delayed(train_parallel)(\n",
    "        X_train.reshape(n_t, b * duplicate_K, c)[i][mask_y[j], :],\n",
    "        y_train.reshape(n_t, b * duplicate_K, c)[i][mask_y[j], k],\n",
    "    )\n",
    "    for i in trange(n_t)\n",
    "    for k in trange(c)\n",
    "    for j in y_uniques\n",
    ")\n",
    "\n",
    "\n",
    "regr_ = [[[None for k in range(c)] for i in range(n_t)] for j in y_uniques]\n",
    "current_i = 0\n",
    "for i in range(n_t):\n",
    "    for j in range(len(y_uniques)):\n",
    "        for k in range(c):\n",
    "            regr_[j][i][k] = regr[current_i]\n",
    "            current_i += 1\n",
    "regr = regr_\n",
    "\n"
   ]
  },
  {
   "cell_type": "code",
   "execution_count": 8,
   "id": "039a0f0c",
   "metadata": {},
   "outputs": [],
   "source": [
    "def my_model(t, xt, mask_y=None):\n",
    "    # xt is [b*c]\n",
    "    xt = xt.reshape(xt.shape[0] // c, c)  # [b, c]\n",
    "\n",
    "    # Output from the models\n",
    "    out = np.zeros(xt.shape)  # [b, c]\n",
    "    i = int(round(t * (n_t - 1)))\n",
    "    for j, label in enumerate(y_uniques):\n",
    "        for k in range(c):\n",
    "            out[mask_y[label], k] = regr[j][i][k].predict(xt[mask_y[label], :])\n",
    "\n",
    "    out = out.reshape(-1)  # [b*c]\n",
    "    return out"
   ]
  },
  {
   "cell_type": "code",
   "execution_count": 9,
   "id": "289e3f73",
   "metadata": {},
   "outputs": [
    {
     "name": "stdout",
     "output_type": "stream",
     "text": [
      "Total sampling time 19.460 seconds\n"
     ]
    }
   ],
   "source": [
    "batch_size = 40000\n",
    "# Generate prior noise\n",
    "\n",
    "x0 = np.random.normal(size=(batch_size, c))\n",
    "\n",
    "# Generate random labels for the outcome\n",
    "label_y_fake = y_uniques[np.argmax(np.random.multinomial(1, y_probs, size=x0.shape[0]), axis=1)]\n",
    "mask_y_fake = {}  # mask for which observations has a specific value of y\n",
    "for i in range(len(y_uniques)):\n",
    "    mask_y_fake[y_uniques[i]] = np.zeros(x0.shape[0], dtype=bool)\n",
    "    mask_y_fake[y_uniques[i]][label_y_fake == y_uniques[i]] = True\n",
    "\n",
    "start_time = time.time() \n",
    "# ODE solve\n",
    "ode_solved = dpori5_solve_numpy(\n",
    "    my_model=partial(my_model, mask_y=mask_y_fake), x0=x0.reshape(-1), N=n_t\n",
    ")  # [t, b*c]\n",
    "end_time = time.time()\n",
    "print(\"Total sampling time %.3f seconds\" % (end_time - start_time))\n",
    "solution = ode_solved.reshape(batch_size, c)  # [b, c]\n",
    "\n",
    "# invert the min-max normalization\n",
    "solution = scaler.inverse_transform(solution)\n",
    "small = (solution < X_min).astype(float)\n",
    "solution = small * X_min + (1 - small) * solution\n",
    "big = (solution > X_max).astype(float)\n",
    "solution = big * X_max + (1 - big) * solution\n",
    "\n",
    "\n",
    "Xy_fake = np.concatenate((solution, np.expand_dims(label_y_fake, axis=1)), axis=1)"
   ]
  },
  {
   "cell_type": "code",
   "execution_count": 10,
   "id": "50b74b98",
   "metadata": {},
   "outputs": [],
   "source": [
    "gen0 = []\n",
    "for i in range(len(Xy_fake)):\n",
    "    if Xy_fake[i, -1] == 0:\n",
    "        temp = Xy_fake[i, 0:6].copy()\n",
    "        gen0.append(temp)\n",
    "\n",
    "        \n",
    "real = []\n",
    "for i in range(len(Xy_true)):\n",
    "    if Xy_true[i, -1] == 0:\n",
    "        temp = Xy_true[i, 0:6].copy()\n",
    "        real.append(temp)\n",
    "        \n",
    "real_array = np.array(real)\n",
    "gen0_array = np.array(gen0)"
   ]
  },
  {
   "cell_type": "code",
   "execution_count": 11,
   "id": "5631358b",
   "metadata": {},
   "outputs": [
    {
     "data": {
      "image/png": "[encoded data removed]",
      "text/plain": [
       "<Figure size 1584x648 with 6 Axes>"
      ]
     },
     "metadata": {
      "needs_background": "light"
     },
     "output_type": "display_data"
    }
   ],
   "source": [
    "# Define the indices you want to plot\n",
    "indices_to_plot = [0,1,2,3,4,5]\n",
    "titles = ['d12', 'd2',  'mass', 'pt', 'tau1', 'tau3']\n",
    "# Create subplots\n",
    "fig, axes = plt.subplots(nrows=2, ncols=3, figsize=(22, 9))  # Adjust figsize as needed\n",
    "axes = axes.flatten()\n",
    "eps = 1e-10\n",
    "binnum = [25,25,25,25,25,25]\n",
    "for ax, index in zip(axes, indices_to_plot):\n",
    "    # Histogram bins and counts for real data\n",
    "    counts, binning = np.histogram(real_array[:, index], bins=binnum[index],density=True)\n",
    "    counts_real, _ = np.histogram(real_array[:batch_size, index], bins=binning,density=True)\n",
    "    counts_gen0, _ = np.histogram(gen0_array[:batch_size, index], bins=binning,density=True)\n",
    "    # Plotting real data\n",
    "    ax.hist(real_array[:, index], bins=binning, label='Target', histtype=\"step\", linestyle='--', color='#1f77b4',lw=2,density=True)\n",
    "    \n",
    "    # Plotting generated data\n",
    "    ax.hist(gen0_array[:, index], bins=binning, label='Flow-Diffu', histtype=\"step\", color='green', lw=2,density=True)\n",
    "    \n",
    "    # Setting labels and styles\n",
    "    ax.legend(fontsize=15)\n",
    "    ax.set_ylabel(f'A.U.', fontsize=18)  # Dynamic y-label based on the feature index\n",
    "    ax.set_xlabel(f'{titles[index]}', fontsize=18)  # Dynamic y-label based on the feature index\n",
    "    ax.tick_params(axis='both', which='major', labelsize=15)"
   ]
  },
  {
   "cell_type": "code",
   "execution_count": null,
   "id": "03bf7f75",
   "metadata": {},
   "outputs": [],
   "source": []
  }
 ],
 "metadata": {
  "@webio": {
   "lastCommId": null,
   "lastKernelId": null
  },
  "kernelspec": {
   "display_name": "Python 3",
   "language": "python",
   "name": "python3"
  },
  "language_info": {
   "codemirror_mode": {
    "name": "ipython",
    "version": 3
   },
   "file_extension": ".py",
   "mimetype": "text/x-python",
   "name": "python",
   "nbconvert_exporter": "python",
   "pygments_lexer": "ipython3",
   "version": "3.9.12"
  }
 },
 "nbformat": 4,
 "nbformat_minor": 5
}
